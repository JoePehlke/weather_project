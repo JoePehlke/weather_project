{
  "cells": [
    {
      "cell_type": "code",
      "execution_count": 56,
      "metadata": {
        "colab": {
          "base_uri": "https://localhost:8080/"
        },
        "id": "WOoSOLOrGXbo",
        "outputId": "8c70336b-0d18-4813-99a8-7bdcb883e8ad"
      },
      "outputs": [
        {
          "name": "stdout",
          "output_type": "stream",
          "text": [
            "Requirement already satisfied: pip in c:\\python311\\lib\\site-packages (22.3)\n",
            "Collecting pip\n",
            "  Using cached pip-23.3.2-py3-none-any.whl (2.1 MB)\n",
            "Installing collected packages: pip\n",
            "  Attempting uninstall: pip\n",
            "    Found existing installation: pip 22.3\n",
            "    Uninstalling pip-22.3:\n"
          ]
        },
        {
          "name": "stderr",
          "output_type": "stream",
          "text": [
            "ERROR: Could not install packages due to an OSError: [WinError 5] Access is denied: 'c:\\\\python311\\\\lib\\\\site-packages\\\\pip-22.3.dist-info\\\\entry_points.txt'\n",
            "Consider using the `--user` option or check the permissions.\n",
            "\n",
            "\n",
            "[notice] A new release of pip available: 22.3 -> 23.3.2\n",
            "[notice] To update, run: python.exe -m pip install --upgrade pip\n"
          ]
        }
      ],
      "source": [
        "!python.exe -m pip install --upgrade pip"
      ]
    },
    {
      "cell_type": "code",
      "execution_count": 57,
      "metadata": {
        "id": "P7bL8_uTHGxO"
      },
      "outputs": [],
      "source": [
        "import requests\n",
        "import mysql.connector"
      ]
    },
    {
      "cell_type": "code",
      "execution_count": 58,
      "metadata": {
        "id": "QgzaoOq8HKS3"
      },
      "outputs": [],
      "source": [
        "latitude = 32.7157\n",
        "longitude = -117.1611\n",
        "url = \"https://api.weather.gov/points/\" + str(latitude) + \",\" + str(longitude)\n",
        "response = requests.get(url)"
      ]
    },
    {
      "cell_type": "code",
      "execution_count": 59,
      "metadata": {
        "id": "NUTc8eQqMxiH"
      },
      "outputs": [],
      "source": [
        "api_data = response.json()"
      ]
    },
    {
      "cell_type": "code",
      "execution_count": 60,
      "metadata": {
        "id": "bz0EcaTDNFMy"
      },
      "outputs": [],
      "source": [
        "forecast = requests.get(api_data['properties']['forecast'])"
      ]
    },
    {
      "cell_type": "code",
      "execution_count": 61,
      "metadata": {
        "id": "BtEqsGPSLG6X"
      },
      "outputs": [],
      "source": [
        "forecast_data = forecast.json()"
      ]
    },
    {
      "cell_type": "code",
      "execution_count": 62,
      "metadata": {},
      "outputs": [
        {
          "name": "stdout",
          "output_type": "stream",
          "text": [
            "{'updated': '2024-01-28T20:44:24+00:00', 'units': 'us', 'forecastGenerator': 'BaselineForecastGenerator', 'generatedAt': '2024-01-29T00:21:42+00:00', 'updateTime': '2024-01-28T20:44:24+00:00', 'validTimes': '2024-01-28T14:00:00+00:00/P7DT11H', 'elevation': {'unitCode': 'wmoUnit:m', 'value': 35.9664}, 'periods': [{'number': 1, 'name': 'This Afternoon', 'startTime': '2024-01-28T16:00:00-08:00', 'endTime': '2024-01-28T18:00:00-08:00', 'isDaytime': True, 'temperature': 74, 'temperatureUnit': 'F', 'temperatureTrend': None, 'probabilityOfPrecipitation': {'unitCode': 'wmoUnit:percent', 'value': None}, 'dewpoint': {'unitCode': 'wmoUnit:degC', 'value': 5.555555555555555}, 'relativeHumidity': {'unitCode': 'wmoUnit:percent', 'value': 40}, 'windSpeed': '5 mph', 'windDirection': 'W', 'icon': 'https://api.weather.gov/icons/land/day/sct?size=medium', 'shortForecast': 'Mostly Sunny', 'detailedForecast': 'Mostly sunny, with a high near 74. West wind around 5 mph.'}, {'number': 2, 'name': 'Tonight', 'startTime': '2024-01-28T18:00:00-08:00', 'endTime': '2024-01-29T06:00:00-08:00', 'isDaytime': False, 'temperature': 52, 'temperatureUnit': 'F', 'temperatureTrend': None, 'probabilityOfPrecipitation': {'unitCode': 'wmoUnit:percent', 'value': None}, 'dewpoint': {'unitCode': 'wmoUnit:degC', 'value': 6.666666666666667}, 'relativeHumidity': {'unitCode': 'wmoUnit:percent', 'value': 67}, 'windSpeed': '0 to 5 mph', 'windDirection': 'SW', 'icon': 'https://api.weather.gov/icons/land/night/sct?size=medium', 'shortForecast': 'Partly Cloudy', 'detailedForecast': 'Partly cloudy, with a low around 52. Southwest wind 0 to 5 mph.'}, {'number': 3, 'name': 'Monday', 'startTime': '2024-01-29T06:00:00-08:00', 'endTime': '2024-01-29T18:00:00-08:00', 'isDaytime': True, 'temperature': 71, 'temperatureUnit': 'F', 'temperatureTrend': None, 'probabilityOfPrecipitation': {'unitCode': 'wmoUnit:percent', 'value': None}, 'dewpoint': {'unitCode': 'wmoUnit:degC', 'value': 8.333333333333334}, 'relativeHumidity': {'unitCode': 'wmoUnit:percent', 'value': 67}, 'windSpeed': '0 to 5 mph', 'windDirection': 'SW', 'icon': 'https://api.weather.gov/icons/land/day/sct?size=medium', 'shortForecast': 'Mostly Sunny', 'detailedForecast': 'Mostly sunny, with a high near 71. Southwest wind 0 to 5 mph.'}, {'number': 4, 'name': 'Monday Night', 'startTime': '2024-01-29T18:00:00-08:00', 'endTime': '2024-01-30T06:00:00-08:00', 'isDaytime': False, 'temperature': 51, 'temperatureUnit': 'F', 'temperatureTrend': None, 'probabilityOfPrecipitation': {'unitCode': 'wmoUnit:percent', 'value': None}, 'dewpoint': {'unitCode': 'wmoUnit:degC', 'value': 8.88888888888889}, 'relativeHumidity': {'unitCode': 'wmoUnit:percent', 'value': 77}, 'windSpeed': '0 to 5 mph', 'windDirection': 'N', 'icon': 'https://api.weather.gov/icons/land/night/sct?size=medium', 'shortForecast': 'Partly Cloudy', 'detailedForecast': 'Partly cloudy, with a low around 51. North wind 0 to 5 mph.'}, {'number': 5, 'name': 'Tuesday', 'startTime': '2024-01-30T06:00:00-08:00', 'endTime': '2024-01-30T18:00:00-08:00', 'isDaytime': True, 'temperature': 70, 'temperatureUnit': 'F', 'temperatureTrend': None, 'probabilityOfPrecipitation': {'unitCode': 'wmoUnit:percent', 'value': None}, 'dewpoint': {'unitCode': 'wmoUnit:degC', 'value': 11.666666666666666}, 'relativeHumidity': {'unitCode': 'wmoUnit:percent', 'value': 76}, 'windSpeed': '0 to 5 mph', 'windDirection': 'NW', 'icon': 'https://api.weather.gov/icons/land/day/sct?size=medium', 'shortForecast': 'Mostly Sunny', 'detailedForecast': 'Mostly sunny, with a high near 70. Northwest wind 0 to 5 mph.'}, {'number': 6, 'name': 'Tuesday Night', 'startTime': '2024-01-30T18:00:00-08:00', 'endTime': '2024-01-31T06:00:00-08:00', 'isDaytime': False, 'temperature': 51, 'temperatureUnit': 'F', 'temperatureTrend': None, 'probabilityOfPrecipitation': {'unitCode': 'wmoUnit:percent', 'value': None}, 'dewpoint': {'unitCode': 'wmoUnit:degC', 'value': 12.222222222222221}, 'relativeHumidity': {'unitCode': 'wmoUnit:percent', 'value': 88}, 'windSpeed': '0 to 5 mph', 'windDirection': 'N', 'icon': 'https://api.weather.gov/icons/land/night/fog?size=medium', 'shortForecast': 'Patchy Fog', 'detailedForecast': 'Patchy fog after 10pm. Partly cloudy, with a low around 51.'}, {'number': 7, 'name': 'Wednesday', 'startTime': '2024-01-31T06:00:00-08:00', 'endTime': '2024-01-31T18:00:00-08:00', 'isDaytime': True, 'temperature': 69, 'temperatureUnit': 'F', 'temperatureTrend': None, 'probabilityOfPrecipitation': {'unitCode': 'wmoUnit:percent', 'value': None}, 'dewpoint': {'unitCode': 'wmoUnit:degC', 'value': 11.11111111111111}, 'relativeHumidity': {'unitCode': 'wmoUnit:percent', 'value': 88}, 'windSpeed': '5 mph', 'windDirection': 'SE', 'icon': 'https://api.weather.gov/icons/land/day/fog/sct?size=medium', 'shortForecast': 'Patchy Fog then Mostly Sunny', 'detailedForecast': 'Patchy fog before 10am. Mostly sunny, with a high near 69.'}, {'number': 8, 'name': 'Wednesday Night', 'startTime': '2024-01-31T18:00:00-08:00', 'endTime': '2024-02-01T06:00:00-08:00', 'isDaytime': False, 'temperature': 53, 'temperatureUnit': 'F', 'temperatureTrend': None, 'probabilityOfPrecipitation': {'unitCode': 'wmoUnit:percent', 'value': None}, 'dewpoint': {'unitCode': 'wmoUnit:degC', 'value': 12.222222222222221}, 'relativeHumidity': {'unitCode': 'wmoUnit:percent', 'value': 91}, 'windSpeed': '5 mph', 'windDirection': 'S', 'icon': 'https://api.weather.gov/icons/land/night/bkn/rain?size=medium', 'shortForecast': 'Mostly Cloudy then Chance Light Rain', 'detailedForecast': 'A chance of rain after 4am. Mostly cloudy, with a low around 53.'}, {'number': 9, 'name': 'Thursday', 'startTime': '2024-02-01T06:00:00-08:00', 'endTime': '2024-02-01T18:00:00-08:00', 'isDaytime': True, 'temperature': 63, 'temperatureUnit': 'F', 'temperatureTrend': None, 'probabilityOfPrecipitation': {'unitCode': 'wmoUnit:percent', 'value': None}, 'dewpoint': {'unitCode': 'wmoUnit:degC', 'value': 12.777777777777779}, 'relativeHumidity': {'unitCode': 'wmoUnit:percent', 'value': 94}, 'windSpeed': '5 to 20 mph', 'windDirection': 'S', 'icon': 'https://api.weather.gov/icons/land/day/rain?size=medium', 'shortForecast': 'Heavy Rain', 'detailedForecast': 'Rain. Cloudy, with a high near 63.'}, {'number': 10, 'name': 'Thursday Night', 'startTime': '2024-02-01T18:00:00-08:00', 'endTime': '2024-02-02T06:00:00-08:00', 'isDaytime': False, 'temperature': 51, 'temperatureUnit': 'F', 'temperatureTrend': None, 'probabilityOfPrecipitation': {'unitCode': 'wmoUnit:percent', 'value': None}, 'dewpoint': {'unitCode': 'wmoUnit:degC', 'value': 12.777777777777779}, 'relativeHumidity': {'unitCode': 'wmoUnit:percent', 'value': 94}, 'windSpeed': '10 to 20 mph', 'windDirection': 'SW', 'icon': 'https://api.weather.gov/icons/land/night/rain?size=medium', 'shortForecast': 'Heavy Rain', 'detailedForecast': 'Rain. Cloudy, with a low around 51.'}, {'number': 11, 'name': 'Friday', 'startTime': '2024-02-02T06:00:00-08:00', 'endTime': '2024-02-02T18:00:00-08:00', 'isDaytime': True, 'temperature': 59, 'temperatureUnit': 'F', 'temperatureTrend': None, 'probabilityOfPrecipitation': {'unitCode': 'wmoUnit:percent', 'value': None}, 'dewpoint': {'unitCode': 'wmoUnit:degC', 'value': 9.444444444444445}, 'relativeHumidity': {'unitCode': 'wmoUnit:percent', 'value': 94}, 'windSpeed': '10 to 20 mph', 'windDirection': 'W', 'icon': 'https://api.weather.gov/icons/land/day/rain?size=medium', 'shortForecast': 'Rain Likely', 'detailedForecast': 'Rain likely before 4pm, then a chance of rain showers. Mostly cloudy, with a high near 59.'}, {'number': 12, 'name': 'Friday Night', 'startTime': '2024-02-02T18:00:00-08:00', 'endTime': '2024-02-03T06:00:00-08:00', 'isDaytime': False, 'temperature': 49, 'temperatureUnit': 'F', 'temperatureTrend': None, 'probabilityOfPrecipitation': {'unitCode': 'wmoUnit:percent', 'value': None}, 'dewpoint': {'unitCode': 'wmoUnit:degC', 'value': 8.88888888888889}, 'relativeHumidity': {'unitCode': 'wmoUnit:percent', 'value': 83}, 'windSpeed': '15 to 20 mph', 'windDirection': 'W', 'icon': 'https://api.weather.gov/icons/land/night/rain_showers?size=medium', 'shortForecast': 'Chance Rain Showers', 'detailedForecast': 'A chance of rain showers. Mostly cloudy, with a low around 49.'}, {'number': 13, 'name': 'Saturday', 'startTime': '2024-02-03T06:00:00-08:00', 'endTime': '2024-02-03T18:00:00-08:00', 'isDaytime': True, 'temperature': 58, 'temperatureUnit': 'F', 'temperatureTrend': None, 'probabilityOfPrecipitation': {'unitCode': 'wmoUnit:percent', 'value': None}, 'dewpoint': {'unitCode': 'wmoUnit:degC', 'value': 7.222222222222222}, 'relativeHumidity': {'unitCode': 'wmoUnit:percent', 'value': 85}, 'windSpeed': '10 to 15 mph', 'windDirection': 'W', 'icon': 'https://api.weather.gov/icons/land/day/rain_showers/rain?size=medium', 'shortForecast': 'Slight Chance Rain Showers then Slight Chance Light Rain', 'detailedForecast': 'A slight chance of rain showers before 4pm, then a slight chance of rain. Partly sunny, with a high near 58.'}, {'number': 14, 'name': 'Saturday Night', 'startTime': '2024-02-03T18:00:00-08:00', 'endTime': '2024-02-04T06:00:00-08:00', 'isDaytime': False, 'temperature': 48, 'temperatureUnit': 'F', 'temperatureTrend': None, 'probabilityOfPrecipitation': {'unitCode': 'wmoUnit:percent', 'value': None}, 'dewpoint': {'unitCode': 'wmoUnit:degC', 'value': 7.222222222222222}, 'relativeHumidity': {'unitCode': 'wmoUnit:percent', 'value': 87}, 'windSpeed': '5 to 10 mph', 'windDirection': 'S', 'icon': 'https://api.weather.gov/icons/land/night/rain?size=medium', 'shortForecast': 'Chance Light Rain', 'detailedForecast': 'A chance of rain. Partly cloudy, with a low around 48.'}]}\n"
          ]
        }
      ],
      "source": [
        "print(forecast_data['properties'])"
      ]
    },
    {
      "cell_type": "code",
      "execution_count": 63,
      "metadata": {
        "id": "dAY09YEhNWG_"
      },
      "outputs": [
        {
          "name": "stdout",
          "output_type": "stream",
          "text": [
            "[{'number': 1, 'name': 'This Afternoon', 'startTime': '2024-01-28T16:00:00-08:00', 'endTime': '2024-01-28T18:00:00-08:00', 'isDaytime': True, 'temperature': 74, 'temperatureUnit': 'F', 'temperatureTrend': None, 'probabilityOfPrecipitation': {'unitCode': 'wmoUnit:percent', 'value': None}, 'dewpoint': {'unitCode': 'wmoUnit:degC', 'value': 5.555555555555555}, 'relativeHumidity': {'unitCode': 'wmoUnit:percent', 'value': 40}, 'windSpeed': '5 mph', 'windDirection': 'W', 'icon': 'https://api.weather.gov/icons/land/day/sct?size=medium', 'shortForecast': 'Mostly Sunny', 'detailedForecast': 'Mostly sunny, with a high near 74. West wind around 5 mph.'}, {'number': 2, 'name': 'Tonight', 'startTime': '2024-01-28T18:00:00-08:00', 'endTime': '2024-01-29T06:00:00-08:00', 'isDaytime': False, 'temperature': 52, 'temperatureUnit': 'F', 'temperatureTrend': None, 'probabilityOfPrecipitation': {'unitCode': 'wmoUnit:percent', 'value': None}, 'dewpoint': {'unitCode': 'wmoUnit:degC', 'value': 6.666666666666667}, 'relativeHumidity': {'unitCode': 'wmoUnit:percent', 'value': 67}, 'windSpeed': '0 to 5 mph', 'windDirection': 'SW', 'icon': 'https://api.weather.gov/icons/land/night/sct?size=medium', 'shortForecast': 'Partly Cloudy', 'detailedForecast': 'Partly cloudy, with a low around 52. Southwest wind 0 to 5 mph.'}, {'number': 3, 'name': 'Monday', 'startTime': '2024-01-29T06:00:00-08:00', 'endTime': '2024-01-29T18:00:00-08:00', 'isDaytime': True, 'temperature': 71, 'temperatureUnit': 'F', 'temperatureTrend': None, 'probabilityOfPrecipitation': {'unitCode': 'wmoUnit:percent', 'value': None}, 'dewpoint': {'unitCode': 'wmoUnit:degC', 'value': 8.333333333333334}, 'relativeHumidity': {'unitCode': 'wmoUnit:percent', 'value': 67}, 'windSpeed': '0 to 5 mph', 'windDirection': 'SW', 'icon': 'https://api.weather.gov/icons/land/day/sct?size=medium', 'shortForecast': 'Mostly Sunny', 'detailedForecast': 'Mostly sunny, with a high near 71. Southwest wind 0 to 5 mph.'}, {'number': 4, 'name': 'Monday Night', 'startTime': '2024-01-29T18:00:00-08:00', 'endTime': '2024-01-30T06:00:00-08:00', 'isDaytime': False, 'temperature': 51, 'temperatureUnit': 'F', 'temperatureTrend': None, 'probabilityOfPrecipitation': {'unitCode': 'wmoUnit:percent', 'value': None}, 'dewpoint': {'unitCode': 'wmoUnit:degC', 'value': 8.88888888888889}, 'relativeHumidity': {'unitCode': 'wmoUnit:percent', 'value': 77}, 'windSpeed': '0 to 5 mph', 'windDirection': 'N', 'icon': 'https://api.weather.gov/icons/land/night/sct?size=medium', 'shortForecast': 'Partly Cloudy', 'detailedForecast': 'Partly cloudy, with a low around 51. North wind 0 to 5 mph.'}, {'number': 5, 'name': 'Tuesday', 'startTime': '2024-01-30T06:00:00-08:00', 'endTime': '2024-01-30T18:00:00-08:00', 'isDaytime': True, 'temperature': 70, 'temperatureUnit': 'F', 'temperatureTrend': None, 'probabilityOfPrecipitation': {'unitCode': 'wmoUnit:percent', 'value': None}, 'dewpoint': {'unitCode': 'wmoUnit:degC', 'value': 11.666666666666666}, 'relativeHumidity': {'unitCode': 'wmoUnit:percent', 'value': 76}, 'windSpeed': '0 to 5 mph', 'windDirection': 'NW', 'icon': 'https://api.weather.gov/icons/land/day/sct?size=medium', 'shortForecast': 'Mostly Sunny', 'detailedForecast': 'Mostly sunny, with a high near 70. Northwest wind 0 to 5 mph.'}, {'number': 6, 'name': 'Tuesday Night', 'startTime': '2024-01-30T18:00:00-08:00', 'endTime': '2024-01-31T06:00:00-08:00', 'isDaytime': False, 'temperature': 51, 'temperatureUnit': 'F', 'temperatureTrend': None, 'probabilityOfPrecipitation': {'unitCode': 'wmoUnit:percent', 'value': None}, 'dewpoint': {'unitCode': 'wmoUnit:degC', 'value': 12.222222222222221}, 'relativeHumidity': {'unitCode': 'wmoUnit:percent', 'value': 88}, 'windSpeed': '0 to 5 mph', 'windDirection': 'N', 'icon': 'https://api.weather.gov/icons/land/night/fog?size=medium', 'shortForecast': 'Patchy Fog', 'detailedForecast': 'Patchy fog after 10pm. Partly cloudy, with a low around 51.'}, {'number': 7, 'name': 'Wednesday', 'startTime': '2024-01-31T06:00:00-08:00', 'endTime': '2024-01-31T18:00:00-08:00', 'isDaytime': True, 'temperature': 69, 'temperatureUnit': 'F', 'temperatureTrend': None, 'probabilityOfPrecipitation': {'unitCode': 'wmoUnit:percent', 'value': None}, 'dewpoint': {'unitCode': 'wmoUnit:degC', 'value': 11.11111111111111}, 'relativeHumidity': {'unitCode': 'wmoUnit:percent', 'value': 88}, 'windSpeed': '5 mph', 'windDirection': 'SE', 'icon': 'https://api.weather.gov/icons/land/day/fog/sct?size=medium', 'shortForecast': 'Patchy Fog then Mostly Sunny', 'detailedForecast': 'Patchy fog before 10am. Mostly sunny, with a high near 69.'}, {'number': 8, 'name': 'Wednesday Night', 'startTime': '2024-01-31T18:00:00-08:00', 'endTime': '2024-02-01T06:00:00-08:00', 'isDaytime': False, 'temperature': 53, 'temperatureUnit': 'F', 'temperatureTrend': None, 'probabilityOfPrecipitation': {'unitCode': 'wmoUnit:percent', 'value': None}, 'dewpoint': {'unitCode': 'wmoUnit:degC', 'value': 12.222222222222221}, 'relativeHumidity': {'unitCode': 'wmoUnit:percent', 'value': 91}, 'windSpeed': '5 mph', 'windDirection': 'S', 'icon': 'https://api.weather.gov/icons/land/night/bkn/rain?size=medium', 'shortForecast': 'Mostly Cloudy then Chance Light Rain', 'detailedForecast': 'A chance of rain after 4am. Mostly cloudy, with a low around 53.'}, {'number': 9, 'name': 'Thursday', 'startTime': '2024-02-01T06:00:00-08:00', 'endTime': '2024-02-01T18:00:00-08:00', 'isDaytime': True, 'temperature': 63, 'temperatureUnit': 'F', 'temperatureTrend': None, 'probabilityOfPrecipitation': {'unitCode': 'wmoUnit:percent', 'value': None}, 'dewpoint': {'unitCode': 'wmoUnit:degC', 'value': 12.777777777777779}, 'relativeHumidity': {'unitCode': 'wmoUnit:percent', 'value': 94}, 'windSpeed': '5 to 20 mph', 'windDirection': 'S', 'icon': 'https://api.weather.gov/icons/land/day/rain?size=medium', 'shortForecast': 'Heavy Rain', 'detailedForecast': 'Rain. Cloudy, with a high near 63.'}, {'number': 10, 'name': 'Thursday Night', 'startTime': '2024-02-01T18:00:00-08:00', 'endTime': '2024-02-02T06:00:00-08:00', 'isDaytime': False, 'temperature': 51, 'temperatureUnit': 'F', 'temperatureTrend': None, 'probabilityOfPrecipitation': {'unitCode': 'wmoUnit:percent', 'value': None}, 'dewpoint': {'unitCode': 'wmoUnit:degC', 'value': 12.777777777777779}, 'relativeHumidity': {'unitCode': 'wmoUnit:percent', 'value': 94}, 'windSpeed': '10 to 20 mph', 'windDirection': 'SW', 'icon': 'https://api.weather.gov/icons/land/night/rain?size=medium', 'shortForecast': 'Heavy Rain', 'detailedForecast': 'Rain. Cloudy, with a low around 51.'}, {'number': 11, 'name': 'Friday', 'startTime': '2024-02-02T06:00:00-08:00', 'endTime': '2024-02-02T18:00:00-08:00', 'isDaytime': True, 'temperature': 59, 'temperatureUnit': 'F', 'temperatureTrend': None, 'probabilityOfPrecipitation': {'unitCode': 'wmoUnit:percent', 'value': None}, 'dewpoint': {'unitCode': 'wmoUnit:degC', 'value': 9.444444444444445}, 'relativeHumidity': {'unitCode': 'wmoUnit:percent', 'value': 94}, 'windSpeed': '10 to 20 mph', 'windDirection': 'W', 'icon': 'https://api.weather.gov/icons/land/day/rain?size=medium', 'shortForecast': 'Rain Likely', 'detailedForecast': 'Rain likely before 4pm, then a chance of rain showers. Mostly cloudy, with a high near 59.'}, {'number': 12, 'name': 'Friday Night', 'startTime': '2024-02-02T18:00:00-08:00', 'endTime': '2024-02-03T06:00:00-08:00', 'isDaytime': False, 'temperature': 49, 'temperatureUnit': 'F', 'temperatureTrend': None, 'probabilityOfPrecipitation': {'unitCode': 'wmoUnit:percent', 'value': None}, 'dewpoint': {'unitCode': 'wmoUnit:degC', 'value': 8.88888888888889}, 'relativeHumidity': {'unitCode': 'wmoUnit:percent', 'value': 83}, 'windSpeed': '15 to 20 mph', 'windDirection': 'W', 'icon': 'https://api.weather.gov/icons/land/night/rain_showers?size=medium', 'shortForecast': 'Chance Rain Showers', 'detailedForecast': 'A chance of rain showers. Mostly cloudy, with a low around 49.'}, {'number': 13, 'name': 'Saturday', 'startTime': '2024-02-03T06:00:00-08:00', 'endTime': '2024-02-03T18:00:00-08:00', 'isDaytime': True, 'temperature': 58, 'temperatureUnit': 'F', 'temperatureTrend': None, 'probabilityOfPrecipitation': {'unitCode': 'wmoUnit:percent', 'value': None}, 'dewpoint': {'unitCode': 'wmoUnit:degC', 'value': 7.222222222222222}, 'relativeHumidity': {'unitCode': 'wmoUnit:percent', 'value': 85}, 'windSpeed': '10 to 15 mph', 'windDirection': 'W', 'icon': 'https://api.weather.gov/icons/land/day/rain_showers/rain?size=medium', 'shortForecast': 'Slight Chance Rain Showers then Slight Chance Light Rain', 'detailedForecast': 'A slight chance of rain showers before 4pm, then a slight chance of rain. Partly sunny, with a high near 58.'}, {'number': 14, 'name': 'Saturday Night', 'startTime': '2024-02-03T18:00:00-08:00', 'endTime': '2024-02-04T06:00:00-08:00', 'isDaytime': False, 'temperature': 48, 'temperatureUnit': 'F', 'temperatureTrend': None, 'probabilityOfPrecipitation': {'unitCode': 'wmoUnit:percent', 'value': None}, 'dewpoint': {'unitCode': 'wmoUnit:degC', 'value': 7.222222222222222}, 'relativeHumidity': {'unitCode': 'wmoUnit:percent', 'value': 87}, 'windSpeed': '5 to 10 mph', 'windDirection': 'S', 'icon': 'https://api.weather.gov/icons/land/night/rain?size=medium', 'shortForecast': 'Chance Light Rain', 'detailedForecast': 'A chance of rain. Partly cloudy, with a low around 48.'}]\n"
          ]
        }
      ],
      "source": [
        "predictions = forecast_data['properties']['periods']\n",
        "print(predictions)"
      ]
    },
    {
      "cell_type": "code",
      "execution_count": 64,
      "metadata": {
        "colab": {
          "base_uri": "https://localhost:8080/"
        },
        "id": "kTqQKbptN2ax",
        "outputId": "d68cb975-f9ef-4f97-fef2-c460aa7dc4a9"
      },
      "outputs": [
        {
          "name": "stdout",
          "output_type": "stream",
          "text": [
            "2024-01-28T16:00:00-08:00: 74\n",
            "2024-01-28T18:00:00-08:00: 52\n",
            "2024-01-29T06:00:00-08:00: 71\n",
            "2024-01-29T18:00:00-08:00: 51\n",
            "2024-01-30T06:00:00-08:00: 70\n",
            "2024-01-30T18:00:00-08:00: 51\n",
            "2024-01-31T06:00:00-08:00: 69\n",
            "2024-01-31T18:00:00-08:00: 53\n",
            "2024-02-01T06:00:00-08:00: 63\n",
            "2024-02-01T18:00:00-08:00: 51\n",
            "2024-02-02T06:00:00-08:00: 59\n",
            "2024-02-02T18:00:00-08:00: 49\n",
            "2024-02-03T06:00:00-08:00: 58\n",
            "2024-02-03T18:00:00-08:00: 48\n"
          ]
        }
      ],
      "source": [
        "for prediction in predictions:\n",
        "  print(prediction['startTime'] + \": \" + str(prediction['temperature']) )\n"
      ]
    },
    {
      "cell_type": "code",
      "execution_count": 69,
      "metadata": {},
      "outputs": [
        {
          "ename": "NotSupportedError",
          "evalue": "Authentication plugin 'caching_sha2_password' is not supported",
          "output_type": "error",
          "traceback": [
            "\u001b[1;31m---------------------------------------------------------------------------\u001b[0m",
            "\u001b[1;31mNotSupportedError\u001b[0m                         Traceback (most recent call last)",
            "\u001b[1;32mc:\\Users\\jpehl\\Downloads\\weather.ipynb Cell 10\u001b[0m line \u001b[0;36m1\n\u001b[1;32m----> <a href='vscode-notebook-cell:/c%3A/Users/jpehl/Downloads/weather.ipynb#X13sZmlsZQ%3D%3D?line=0'>1</a>\u001b[0m cnx \u001b[39m=\u001b[39m mysql\u001b[39m.\u001b[39;49mconnector\u001b[39m.\u001b[39;49mconnect(host\u001b[39m=\u001b[39;49m\u001b[39m'\u001b[39;49m\u001b[39mlocalhost\u001b[39;49m\u001b[39m'\u001b[39;49m,\n\u001b[0;32m      <a href='vscode-notebook-cell:/c%3A/Users/jpehl/Downloads/weather.ipynb#X13sZmlsZQ%3D%3D?line=1'>2</a>\u001b[0m                               user\u001b[39m=\u001b[39;49m\u001b[39m'\u001b[39;49m\u001b[39mroot\u001b[39;49m\u001b[39m'\u001b[39;49m,\n\u001b[0;32m      <a href='vscode-notebook-cell:/c%3A/Users/jpehl/Downloads/weather.ipynb#X13sZmlsZQ%3D%3D?line=2'>3</a>\u001b[0m                               password\u001b[39m=\u001b[39;49m\u001b[39m'\u001b[39;49m\u001b[39mThisbunny_3funny\u001b[39;49m\u001b[39m'\u001b[39;49m,\n\u001b[0;32m      <a href='vscode-notebook-cell:/c%3A/Users/jpehl/Downloads/weather.ipynb#X13sZmlsZQ%3D%3D?line=3'>4</a>\u001b[0m                               database\u001b[39m=\u001b[39;49m\u001b[39m'\u001b[39;49m\u001b[39mweather\u001b[39;49m\u001b[39m'\u001b[39;49m, port\u001b[39m=\u001b[39;49m\u001b[39m3306\u001b[39;49m)\n\u001b[0;32m      <a href='vscode-notebook-cell:/c%3A/Users/jpehl/Downloads/weather.ipynb#X13sZmlsZQ%3D%3D?line=4'>5</a>\u001b[0m                     \u001b[39m#database='weather')\u001b[39;00m\n",
            "File \u001b[1;32mc:\\Python311\\Lib\\site-packages\\mysql\\connector\\__init__.py:179\u001b[0m, in \u001b[0;36mconnect\u001b[1;34m(*args, **kwargs)\u001b[0m\n\u001b[0;32m    177\u001b[0m     \u001b[39mreturn\u001b[39;00m CMySQLConnection(\u001b[39m*\u001b[39margs, \u001b[39m*\u001b[39m\u001b[39m*\u001b[39mkwargs)\n\u001b[0;32m    178\u001b[0m \u001b[39melse\u001b[39;00m:\n\u001b[1;32m--> 179\u001b[0m     \u001b[39mreturn\u001b[39;00m MySQLConnection(\u001b[39m*\u001b[39;49margs, \u001b[39m*\u001b[39;49m\u001b[39m*\u001b[39;49mkwargs)\n",
            "File \u001b[1;32mc:\\Python311\\Lib\\site-packages\\mysql\\connector\\connection.py:95\u001b[0m, in \u001b[0;36mMySQLConnection.__init__\u001b[1;34m(self, *args, **kwargs)\u001b[0m\n\u001b[0;32m     92\u001b[0m \u001b[39mself\u001b[39m\u001b[39m.\u001b[39m_pool_config_version \u001b[39m=\u001b[39m \u001b[39mNone\u001b[39;00m\n\u001b[0;32m     94\u001b[0m \u001b[39mif\u001b[39;00m \u001b[39mlen\u001b[39m(kwargs) \u001b[39m>\u001b[39m \u001b[39m0\u001b[39m:\n\u001b[1;32m---> 95\u001b[0m     \u001b[39mself\u001b[39;49m\u001b[39m.\u001b[39;49mconnect(\u001b[39m*\u001b[39;49m\u001b[39m*\u001b[39;49mkwargs)\n",
            "File \u001b[1;32mc:\\Python311\\Lib\\site-packages\\mysql\\connector\\abstracts.py:716\u001b[0m, in \u001b[0;36mMySQLConnectionAbstract.connect\u001b[1;34m(self, **kwargs)\u001b[0m\n\u001b[0;32m    713\u001b[0m     \u001b[39mself\u001b[39m\u001b[39m.\u001b[39mconfig(\u001b[39m*\u001b[39m\u001b[39m*\u001b[39mkwargs)\n\u001b[0;32m    715\u001b[0m \u001b[39mself\u001b[39m\u001b[39m.\u001b[39mdisconnect()\n\u001b[1;32m--> 716\u001b[0m \u001b[39mself\u001b[39;49m\u001b[39m.\u001b[39;49m_open_connection()\n\u001b[0;32m    717\u001b[0m \u001b[39mself\u001b[39m\u001b[39m.\u001b[39m_post_connection()\n",
            "File \u001b[1;32mc:\\Python311\\Lib\\site-packages\\mysql\\connector\\connection.py:208\u001b[0m, in \u001b[0;36mMySQLConnection._open_connection\u001b[1;34m(self)\u001b[0m\n\u001b[0;32m    206\u001b[0m \u001b[39mself\u001b[39m\u001b[39m.\u001b[39m_socket\u001b[39m.\u001b[39mopen_connection()\n\u001b[0;32m    207\u001b[0m \u001b[39mself\u001b[39m\u001b[39m.\u001b[39m_do_handshake()\n\u001b[1;32m--> 208\u001b[0m \u001b[39mself\u001b[39;49m\u001b[39m.\u001b[39;49m_do_auth(\u001b[39mself\u001b[39;49m\u001b[39m.\u001b[39;49m_user, \u001b[39mself\u001b[39;49m\u001b[39m.\u001b[39;49m_password,\n\u001b[0;32m    209\u001b[0m               \u001b[39mself\u001b[39;49m\u001b[39m.\u001b[39;49m_database, \u001b[39mself\u001b[39;49m\u001b[39m.\u001b[39;49m_client_flags, \u001b[39mself\u001b[39;49m\u001b[39m.\u001b[39;49m_charset_id,\n\u001b[0;32m    210\u001b[0m               \u001b[39mself\u001b[39;49m\u001b[39m.\u001b[39;49m_ssl)\n\u001b[0;32m    211\u001b[0m \u001b[39mself\u001b[39m\u001b[39m.\u001b[39mset_converter_class(\u001b[39mself\u001b[39m\u001b[39m.\u001b[39m_converter_class)\n\u001b[0;32m    212\u001b[0m \u001b[39mif\u001b[39;00m \u001b[39mself\u001b[39m\u001b[39m.\u001b[39m_client_flags \u001b[39m&\u001b[39m ClientFlag\u001b[39m.\u001b[39mCOMPRESS:\n",
            "File \u001b[1;32mc:\\Python311\\Lib\\site-packages\\mysql\\connector\\connection.py:137\u001b[0m, in \u001b[0;36mMySQLConnection._do_auth\u001b[1;34m(self, username, password, database, client_flags, charset, ssl_options)\u001b[0m\n\u001b[0;32m    134\u001b[0m     \u001b[39mself\u001b[39m\u001b[39m.\u001b[39m_socket\u001b[39m.\u001b[39mswitch_to_ssl(\u001b[39m*\u001b[39m\u001b[39m*\u001b[39mssl_options)\n\u001b[0;32m    135\u001b[0m     \u001b[39mself\u001b[39m\u001b[39m.\u001b[39m_ssl_active \u001b[39m=\u001b[39m \u001b[39mTrue\u001b[39;00m\n\u001b[1;32m--> 137\u001b[0m packet \u001b[39m=\u001b[39m \u001b[39mself\u001b[39;49m\u001b[39m.\u001b[39;49m_protocol\u001b[39m.\u001b[39;49mmake_auth(\n\u001b[0;32m    138\u001b[0m     handshake\u001b[39m=\u001b[39;49m\u001b[39mself\u001b[39;49m\u001b[39m.\u001b[39;49m_handshake,\n\u001b[0;32m    139\u001b[0m     username\u001b[39m=\u001b[39;49musername, password\u001b[39m=\u001b[39;49mpassword, database\u001b[39m=\u001b[39;49mdatabase,\n\u001b[0;32m    140\u001b[0m     charset\u001b[39m=\u001b[39;49mcharset, client_flags\u001b[39m=\u001b[39;49mclient_flags,\n\u001b[0;32m    141\u001b[0m     ssl_enabled\u001b[39m=\u001b[39;49m\u001b[39mself\u001b[39;49m\u001b[39m.\u001b[39;49m_ssl_active,\n\u001b[0;32m    142\u001b[0m     auth_plugin\u001b[39m=\u001b[39;49m\u001b[39mself\u001b[39;49m\u001b[39m.\u001b[39;49m_auth_plugin)\n\u001b[0;32m    143\u001b[0m \u001b[39mself\u001b[39m\u001b[39m.\u001b[39m_socket\u001b[39m.\u001b[39msend(packet)\n\u001b[0;32m    144\u001b[0m \u001b[39mself\u001b[39m\u001b[39m.\u001b[39m_auth_switch_request(username, password)\n",
            "File \u001b[1;32mc:\\Python311\\Lib\\site-packages\\mysql\\connector\\protocol.py:99\u001b[0m, in \u001b[0;36mMySQLProtocol.make_auth\u001b[1;34m(self, handshake, username, password, database, charset, client_flags, max_allowed_packet, ssl_enabled, auth_plugin)\u001b[0m\n\u001b[0;32m     93\u001b[0m     username_bytes \u001b[39m=\u001b[39m username\n\u001b[0;32m     94\u001b[0m packet \u001b[39m=\u001b[39m struct\u001b[39m.\u001b[39mpack(\u001b[39m'\u001b[39m\u001b[39m<IIB\u001b[39m\u001b[39m{filler}\u001b[39;00m\u001b[39m{usrlen}\u001b[39;00m\u001b[39msx\u001b[39m\u001b[39m'\u001b[39m\u001b[39m.\u001b[39mformat(\n\u001b[0;32m     95\u001b[0m     filler\u001b[39m=\u001b[39m\u001b[39m'\u001b[39m\u001b[39mx\u001b[39m\u001b[39m'\u001b[39m \u001b[39m*\u001b[39m \u001b[39m23\u001b[39m, usrlen\u001b[39m=\u001b[39m\u001b[39mlen\u001b[39m(username_bytes)),\n\u001b[0;32m     96\u001b[0m                      client_flags, max_allowed_packet, charset,\n\u001b[0;32m     97\u001b[0m                      username_bytes)\n\u001b[1;32m---> 99\u001b[0m packet \u001b[39m+\u001b[39m\u001b[39m=\u001b[39m \u001b[39mself\u001b[39;49m\u001b[39m.\u001b[39;49m_auth_response(client_flags, username, password,\n\u001b[0;32m    100\u001b[0m                               database,\n\u001b[0;32m    101\u001b[0m                               auth_plugin,\n\u001b[0;32m    102\u001b[0m                               auth_data, ssl_enabled)\n\u001b[0;32m    104\u001b[0m packet \u001b[39m+\u001b[39m\u001b[39m=\u001b[39m \u001b[39mself\u001b[39m\u001b[39m.\u001b[39m_connect_with_db(client_flags, database)\n\u001b[0;32m    106\u001b[0m \u001b[39mif\u001b[39;00m client_flags \u001b[39m&\u001b[39m ClientFlag\u001b[39m.\u001b[39mPLUGIN_AUTH:\n",
            "File \u001b[1;32mc:\\Python311\\Lib\\site-packages\\mysql\\connector\\protocol.py:58\u001b[0m, in \u001b[0;36mMySQLProtocol._auth_response\u001b[1;34m(self, client_flags, username, password, database, auth_plugin, auth_data, ssl_enabled)\u001b[0m\n\u001b[0;32m     55\u001b[0m     \u001b[39mreturn\u001b[39;00m \u001b[39mb\u001b[39m\u001b[39m'\u001b[39m\u001b[39m\\x00\u001b[39;00m\u001b[39m'\u001b[39m\n\u001b[0;32m     57\u001b[0m \u001b[39mtry\u001b[39;00m:\n\u001b[1;32m---> 58\u001b[0m     auth \u001b[39m=\u001b[39m get_auth_plugin(auth_plugin)(\n\u001b[0;32m     59\u001b[0m         auth_data,\n\u001b[0;32m     60\u001b[0m         username\u001b[39m=\u001b[39musername, password\u001b[39m=\u001b[39mpassword, database\u001b[39m=\u001b[39mdatabase,\n\u001b[0;32m     61\u001b[0m         ssl_enabled\u001b[39m=\u001b[39mssl_enabled)\n\u001b[0;32m     62\u001b[0m     plugin_auth_response \u001b[39m=\u001b[39m auth\u001b[39m.\u001b[39mauth_response()\n\u001b[0;32m     63\u001b[0m \u001b[39mexcept\u001b[39;00m (\u001b[39mTypeError\u001b[39;00m, errors\u001b[39m.\u001b[39mInterfaceError) \u001b[39mas\u001b[39;00m exc:\n",
            "File \u001b[1;32mc:\\Python311\\Lib\\site-packages\\mysql\\connector\\authentication.py:190\u001b[0m, in \u001b[0;36mget_auth_plugin\u001b[1;34m(plugin_name)\u001b[0m\n\u001b[0;32m    187\u001b[0m     \u001b[39mif\u001b[39;00m authclass\u001b[39m.\u001b[39mplugin_name \u001b[39m==\u001b[39m plugin_name:\n\u001b[0;32m    188\u001b[0m         \u001b[39mreturn\u001b[39;00m authclass\n\u001b[1;32m--> 190\u001b[0m \u001b[39mraise\u001b[39;00m errors\u001b[39m.\u001b[39mNotSupportedError(\n\u001b[0;32m    191\u001b[0m     \u001b[39m\"\u001b[39m\u001b[39mAuthentication plugin \u001b[39m\u001b[39m'\u001b[39m\u001b[39m{0}\u001b[39;00m\u001b[39m'\u001b[39m\u001b[39m is not supported\u001b[39m\u001b[39m\"\u001b[39m\u001b[39m.\u001b[39mformat(plugin_name))\n",
            "\u001b[1;31mNotSupportedError\u001b[0m: Authentication plugin 'caching_sha2_password' is not supported"
          ]
        }
      ],
      "source": [
        "cnx = mysql.connector.connect(host='localhost',\n",
        "                              user='root',\n",
        "                              password='Thisbunny_3funny',\n",
        "                              database='weather', port=3306)\n",
        "                    #database='weather')\n"
      ]
    }
  ],
  "metadata": {
    "colab": {
      "provenance": []
    },
    "kernelspec": {
      "display_name": "Python 3",
      "name": "python3"
    },
    "language_info": {
      "codemirror_mode": {
        "name": "ipython",
        "version": 3
      },
      "file_extension": ".py",
      "mimetype": "text/x-python",
      "name": "python",
      "nbconvert_exporter": "python",
      "pygments_lexer": "ipython3",
      "version": "3.11.0"
    }
  },
  "nbformat": 4,
  "nbformat_minor": 0
}
