{
  "cells": [
    {
      "cell_type": "code",
      "execution_count": 1,
      "metadata": {
        "colab": {
          "base_uri": "https://localhost:8080/"
        },
        "id": "WOoSOLOrGXbo",
        "outputId": "8c70336b-0d18-4813-99a8-7bdcb883e8ad"
      },
      "outputs": [
        {
          "name": "stdout",
          "output_type": "stream",
          "text": [
            "Requirement already satisfied: pip in c:\\python311\\lib\\site-packages (22.3)\n",
            "Collecting pip\n",
            "  Using cached pip-23.3.2-py3-none-any.whl (2.1 MB)\n",
            "Installing collected packages: pip\n",
            "  Attempting uninstall: pip\n",
            "    Found existing installation: pip 22.3\n",
            "    Uninstalling pip-22.3:\n"
          ]
        },
        {
          "name": "stderr",
          "output_type": "stream",
          "text": [
            "ERROR: Could not install packages due to an OSError: [WinError 5] Access is denied: 'c:\\\\python311\\\\lib\\\\site-packages\\\\pip-22.3.dist-info\\\\entry_points.txt'\n",
            "Consider using the `--user` option or check the permissions.\n",
            "\n",
            "\n",
            "[notice] A new release of pip available: 22.3 -> 23.3.2\n",
            "[notice] To update, run: python.exe -m pip install --upgrade pip\n"
          ]
        }
      ],
      "source": [
        "!python.exe -m pip install --upgrade pip"
      ]
    },
    {
      "cell_type": "code",
      "execution_count": 2,
      "metadata": {
        "id": "P7bL8_uTHGxO"
      },
      "outputs": [],
      "source": [
        "import requests\n",
        "import mysql.connector"
      ]
    },
    {
      "cell_type": "code",
      "execution_count": 3,
      "metadata": {
        "id": "QgzaoOq8HKS3"
      },
      "outputs": [],
      "source": [
        "latitude = 32.7157\n",
        "longitude = -117.1611\n",
        "url = \"https://api.weather.gov/points/\" + str(latitude) + \",\" + str(longitude)\n",
        "response = requests.get(url)"
      ]
    },
    {
      "cell_type": "code",
      "execution_count": 4,
      "metadata": {},
      "outputs": [],
      "source": [
        "cities_to_coordinates = {}\n"
      ]
    },
    {
      "cell_type": "code",
      "execution_count": 4,
      "metadata": {
        "id": "NUTc8eQqMxiH"
      },
      "outputs": [],
      "source": [
        "api_data = response.json()"
      ]
    },
    {
      "cell_type": "code",
      "execution_count": 5,
      "metadata": {
        "id": "bz0EcaTDNFMy"
      },
      "outputs": [],
      "source": [
        "forecast = requests.get(api_data['properties']['forecast'])"
      ]
    },
    {
      "cell_type": "code",
      "execution_count": 6,
      "metadata": {
        "id": "BtEqsGPSLG6X"
      },
      "outputs": [],
      "source": [
        "forecast_data = forecast.json()"
      ]
    },
    {
      "cell_type": "code",
      "execution_count": 7,
      "metadata": {},
      "outputs": [
        {
          "name": "stdout",
          "output_type": "stream",
          "text": [
            "{'updated': '2024-02-01T21:31:11+00:00', 'units': 'us', 'forecastGenerator': 'BaselineForecastGenerator', 'generatedAt': '2024-02-02T01:55:06+00:00', 'updateTime': '2024-02-01T21:31:11+00:00', 'validTimes': '2024-02-01T15:00:00+00:00/P7DT10H', 'elevation': {'unitCode': 'wmoUnit:m', 'value': 35.9664}, 'periods': [{'number': 1, 'name': 'This Afternoon', 'startTime': '2024-02-01T17:00:00-08:00', 'endTime': '2024-02-01T18:00:00-08:00', 'isDaytime': True, 'temperature': 60, 'temperatureUnit': 'F', 'temperatureTrend': None, 'probabilityOfPrecipitation': {'unitCode': 'wmoUnit:percent', 'value': 80}, 'dewpoint': {'unitCode': 'wmoUnit:degC', 'value': 12.222222222222221}, 'relativeHumidity': {'unitCode': 'wmoUnit:percent', 'value': 88}, 'windSpeed': '10 mph', 'windDirection': 'W', 'icon': 'https://api.weather.gov/icons/land/day/tsra,80?size=medium', 'shortForecast': 'Widespread Showers And Thunderstorms', 'detailedForecast': 'Widespread showers and thunderstorms. Mostly cloudy, with a high near 60. West wind around 10 mph, with gusts as high as 20 mph. Chance of precipitation is 80%. New rainfall amounts less than a tenth of an inch possible.'}, {'number': 2, 'name': 'Tonight', 'startTime': '2024-02-01T18:00:00-08:00', 'endTime': '2024-02-02T06:00:00-08:00', 'isDaytime': False, 'temperature': 52, 'temperatureUnit': 'F', 'temperatureTrend': None, 'probabilityOfPrecipitation': {'unitCode': 'wmoUnit:percent', 'value': 90}, 'dewpoint': {'unitCode': 'wmoUnit:degC', 'value': 11.666666666666666}, 'relativeHumidity': {'unitCode': 'wmoUnit:percent', 'value': 91}, 'windSpeed': '10 to 15 mph', 'windDirection': 'W', 'icon': 'https://api.weather.gov/icons/land/night/tsra_sct,90?size=medium', 'shortForecast': 'Showers And Thunderstorms', 'detailedForecast': 'Showers and thunderstorms. Mostly cloudy, with a low around 52. West wind 10 to 15 mph, with gusts as high as 25 mph. Chance of precipitation is 90%. New rainfall amounts between a quarter and half of an inch possible.'}, {'number': 3, 'name': 'Friday', 'startTime': '2024-02-02T06:00:00-08:00', 'endTime': '2024-02-02T18:00:00-08:00', 'isDaytime': True, 'temperature': 60, 'temperatureUnit': 'F', 'temperatureTrend': None, 'probabilityOfPrecipitation': {'unitCode': 'wmoUnit:percent', 'value': 50}, 'dewpoint': {'unitCode': 'wmoUnit:degC', 'value': 10}, 'relativeHumidity': {'unitCode': 'wmoUnit:percent', 'value': 91}, 'windSpeed': '10 to 15 mph', 'windDirection': 'W', 'icon': 'https://api.weather.gov/icons/land/day/tsra_sct,50/tsra_sct,30?size=medium', 'shortForecast': 'Chance Showers And Thunderstorms', 'detailedForecast': 'A chance of showers and thunderstorms. Partly sunny, with a high near 60. West wind 10 to 15 mph, with gusts as high as 25 mph. Chance of precipitation is 50%. New rainfall amounts between a tenth and quarter of an inch possible.'}, {'number': 4, 'name': 'Friday Night', 'startTime': '2024-02-02T18:00:00-08:00', 'endTime': '2024-02-03T06:00:00-08:00', 'isDaytime': False, 'temperature': 51, 'temperatureUnit': 'F', 'temperatureTrend': None, 'probabilityOfPrecipitation': {'unitCode': 'wmoUnit:percent', 'value': 20}, 'dewpoint': {'unitCode': 'wmoUnit:degC', 'value': 8.88888888888889}, 'relativeHumidity': {'unitCode': 'wmoUnit:percent', 'value': 90}, 'windSpeed': '10 to 15 mph', 'windDirection': 'W', 'icon': 'https://api.weather.gov/icons/land/night/rain_showers,20/bkn?size=medium', 'shortForecast': 'Slight Chance Rain Showers then Mostly Cloudy', 'detailedForecast': 'A slight chance of rain showers before 10pm. Mostly cloudy, with a low around 51. West wind 10 to 15 mph, with gusts as high as 25 mph. Chance of precipitation is 20%.'}, {'number': 5, 'name': 'Saturday', 'startTime': '2024-02-03T06:00:00-08:00', 'endTime': '2024-02-03T18:00:00-08:00', 'isDaytime': True, 'temperature': 61, 'temperatureUnit': 'F', 'temperatureTrend': None, 'probabilityOfPrecipitation': {'unitCode': 'wmoUnit:percent', 'value': None}, 'dewpoint': {'unitCode': 'wmoUnit:degC', 'value': 8.333333333333334}, 'relativeHumidity': {'unitCode': 'wmoUnit:percent', 'value': 86}, 'windSpeed': '5 to 10 mph', 'windDirection': 'W', 'icon': 'https://api.weather.gov/icons/land/day/bkn?size=medium', 'shortForecast': 'Partly Sunny', 'detailedForecast': 'Partly sunny, with a high near 61. West wind 5 to 10 mph.'}, {'number': 6, 'name': 'Saturday Night', 'startTime': '2024-02-03T18:00:00-08:00', 'endTime': '2024-02-04T06:00:00-08:00', 'isDaytime': False, 'temperature': 46, 'temperatureUnit': 'F', 'temperatureTrend': None, 'probabilityOfPrecipitation': {'unitCode': 'wmoUnit:percent', 'value': 20}, 'dewpoint': {'unitCode': 'wmoUnit:degC', 'value': 8.333333333333334}, 'relativeHumidity': {'unitCode': 'wmoUnit:percent', 'value': 93}, 'windSpeed': '0 to 5 mph', 'windDirection': 'NE', 'icon': 'https://api.weather.gov/icons/land/night/bkn/rain,20?size=medium', 'shortForecast': 'Mostly Cloudy then Slight Chance Light Rain', 'detailedForecast': 'A slight chance of rain after 4am. Mostly cloudy, with a low around 46. Chance of precipitation is 20%.'}, {'number': 7, 'name': 'Sunday', 'startTime': '2024-02-04T06:00:00-08:00', 'endTime': '2024-02-04T18:00:00-08:00', 'isDaytime': True, 'temperature': 63, 'temperatureUnit': 'F', 'temperatureTrend': None, 'probabilityOfPrecipitation': {'unitCode': 'wmoUnit:percent', 'value': 30}, 'dewpoint': {'unitCode': 'wmoUnit:degC', 'value': 8.88888888888889}, 'relativeHumidity': {'unitCode': 'wmoUnit:percent', 'value': 96}, 'windSpeed': '5 to 10 mph', 'windDirection': 'SE', 'icon': 'https://api.weather.gov/icons/land/day/rain,20/rain,30?size=medium', 'shortForecast': 'Chance Light Rain', 'detailedForecast': 'A chance of rain. Partly sunny, with a high near 63. Chance of precipitation is 30%.'}, {'number': 8, 'name': 'Sunday Night', 'startTime': '2024-02-04T18:00:00-08:00', 'endTime': '2024-02-05T06:00:00-08:00', 'isDaytime': False, 'temperature': 50, 'temperatureUnit': 'F', 'temperatureTrend': None, 'probabilityOfPrecipitation': {'unitCode': 'wmoUnit:percent', 'value': None}, 'dewpoint': {'unitCode': 'wmoUnit:degC', 'value': 9.444444444444445}, 'relativeHumidity': {'unitCode': 'wmoUnit:percent', 'value': 88}, 'windSpeed': '10 to 15 mph', 'windDirection': 'SE', 'icon': 'https://api.weather.gov/icons/land/night/rain?size=medium', 'shortForecast': 'Chance Light Rain', 'detailedForecast': 'A chance of rain. Mostly cloudy, with a low around 50.'}, {'number': 9, 'name': 'Monday', 'startTime': '2024-02-05T06:00:00-08:00', 'endTime': '2024-02-05T18:00:00-08:00', 'isDaytime': True, 'temperature': 66, 'temperatureUnit': 'F', 'temperatureTrend': None, 'probabilityOfPrecipitation': {'unitCode': 'wmoUnit:percent', 'value': None}, 'dewpoint': {'unitCode': 'wmoUnit:degC', 'value': 11.666666666666666}, 'relativeHumidity': {'unitCode': 'wmoUnit:percent', 'value': 89}, 'windSpeed': '15 mph', 'windDirection': 'SE', 'icon': 'https://api.weather.gov/icons/land/day/rain?size=medium', 'shortForecast': 'Chance Rain', 'detailedForecast': 'A chance of rain. Mostly cloudy, with a high near 66.'}, {'number': 10, 'name': 'Monday Night', 'startTime': '2024-02-05T18:00:00-08:00', 'endTime': '2024-02-06T06:00:00-08:00', 'isDaytime': False, 'temperature': 53, 'temperatureUnit': 'F', 'temperatureTrend': None, 'probabilityOfPrecipitation': {'unitCode': 'wmoUnit:percent', 'value': None}, 'dewpoint': {'unitCode': 'wmoUnit:degC', 'value': 11.666666666666666}, 'relativeHumidity': {'unitCode': 'wmoUnit:percent', 'value': 94}, 'windSpeed': '10 to 15 mph', 'windDirection': 'SE', 'icon': 'https://api.weather.gov/icons/land/night/rain?size=medium', 'shortForecast': 'Heavy Rain Likely', 'detailedForecast': 'Rain likely. Mostly cloudy, with a low around 53.'}, {'number': 11, 'name': 'Tuesday', 'startTime': '2024-02-06T06:00:00-08:00', 'endTime': '2024-02-06T18:00:00-08:00', 'isDaytime': True, 'temperature': 62, 'temperatureUnit': 'F', 'temperatureTrend': None, 'probabilityOfPrecipitation': {'unitCode': 'wmoUnit:percent', 'value': None}, 'dewpoint': {'unitCode': 'wmoUnit:degC', 'value': 12.777777777777779}, 'relativeHumidity': {'unitCode': 'wmoUnit:percent', 'value': 98}, 'windSpeed': '10 to 15 mph', 'windDirection': 'SE', 'icon': 'https://api.weather.gov/icons/land/day/rain?size=medium', 'shortForecast': 'Heavy Rain', 'detailedForecast': 'Rain. Cloudy, with a high near 62.'}, {'number': 12, 'name': 'Tuesday Night', 'startTime': '2024-02-06T18:00:00-08:00', 'endTime': '2024-02-07T06:00:00-08:00', 'isDaytime': False, 'temperature': 51, 'temperatureUnit': 'F', 'temperatureTrend': None, 'probabilityOfPrecipitation': {'unitCode': 'wmoUnit:percent', 'value': None}, 'dewpoint': {'unitCode': 'wmoUnit:degC', 'value': 12.777777777777779}, 'relativeHumidity': {'unitCode': 'wmoUnit:percent', 'value': 95}, 'windSpeed': '10 to 15 mph', 'windDirection': 'SW', 'icon': 'https://api.weather.gov/icons/land/night/rain?size=medium', 'shortForecast': 'Rain', 'detailedForecast': 'Rain. Cloudy, with a low around 51.'}, {'number': 13, 'name': 'Wednesday', 'startTime': '2024-02-07T06:00:00-08:00', 'endTime': '2024-02-07T18:00:00-08:00', 'isDaytime': True, 'temperature': 61, 'temperatureUnit': 'F', 'temperatureTrend': None, 'probabilityOfPrecipitation': {'unitCode': 'wmoUnit:percent', 'value': None}, 'dewpoint': {'unitCode': 'wmoUnit:degC', 'value': 10.555555555555555}, 'relativeHumidity': {'unitCode': 'wmoUnit:percent', 'value': 99}, 'windSpeed': '10 to 15 mph', 'windDirection': 'SW', 'icon': 'https://api.weather.gov/icons/land/day/rain?size=medium', 'shortForecast': 'Rain Likely', 'detailedForecast': 'Rain likely. Mostly cloudy, with a high near 61.'}, {'number': 14, 'name': 'Wednesday Night', 'startTime': '2024-02-07T18:00:00-08:00', 'endTime': '2024-02-08T06:00:00-08:00', 'isDaytime': False, 'temperature': 50, 'temperatureUnit': 'F', 'temperatureTrend': None, 'probabilityOfPrecipitation': {'unitCode': 'wmoUnit:percent', 'value': None}, 'dewpoint': {'unitCode': 'wmoUnit:degC', 'value': 10.555555555555555}, 'relativeHumidity': {'unitCode': 'wmoUnit:percent', 'value': 96}, 'windSpeed': '10 to 15 mph', 'windDirection': 'SW', 'icon': 'https://api.weather.gov/icons/land/night/rain?size=medium', 'shortForecast': 'Light Rain Likely', 'detailedForecast': 'Rain likely. Mostly cloudy, with a low around 50.'}]}\n"
          ]
        }
      ],
      "source": [
        "print(forecast_data['properties'])"
      ]
    },
    {
      "cell_type": "code",
      "execution_count": 11,
      "metadata": {
        "id": "dAY09YEhNWG_"
      },
      "outputs": [
        {
          "name": "stdout",
          "output_type": "stream",
          "text": [
            "<class 'int'>\n"
          ]
        }
      ],
      "source": [
        "predictions = forecast_data['properties']['periods']\n",
        "print(type(predictions[0]['temperature']))"
      ]
    },
    {
      "cell_type": "code",
      "execution_count": 10,
      "metadata": {
        "colab": {
          "base_uri": "https://localhost:8080/"
        },
        "id": "kTqQKbptN2ax",
        "outputId": "d68cb975-f9ef-4f97-fef2-c460aa7dc4a9"
      },
      "outputs": [
        {
          "name": "stdout",
          "output_type": "stream",
          "text": [
            "2024-01-30T22:00:00-08:00: 52\n",
            "2024-01-31T06:00:00-08:00: 67\n",
            "2024-01-31T18:00:00-08:00: 53\n",
            "2024-02-01T06:00:00-08:00: 62\n",
            "2024-02-01T18:00:00-08:00: 51\n",
            "2024-02-02T06:00:00-08:00: 60\n",
            "2024-02-02T18:00:00-08:00: 50\n",
            "2024-02-03T06:00:00-08:00: 60\n",
            "2024-02-03T18:00:00-08:00: 48\n",
            "2024-02-04T06:00:00-08:00: 61\n",
            "2024-02-04T18:00:00-08:00: 51\n",
            "2024-02-05T06:00:00-08:00: 63\n",
            "2024-02-05T18:00:00-08:00: 51\n",
            "2024-02-06T06:00:00-08:00: 62\n"
          ]
        }
      ],
      "source": [
        "for prediction in predictions:\n",
        "  print(prediction['startTime'] + \": \" + str(prediction['temperature']) )\n"
      ]
    },
    {
      "cell_type": "code",
      "execution_count": 11,
      "metadata": {},
      "outputs": [],
      "source": [
        "cnx = mysql.connector.connect(host='localhost',\n",
        "                              user='root',\n",
        "                              password='Thisbunny_3funny',\n",
        "                              database='weather', port=3306)\n",
        "                    #database='weather')\n"
      ]
    },
    {
      "cell_type": "code",
      "execution_count": 12,
      "metadata": {},
      "outputs": [],
      "source": [
        "mycursor = cnx.cursor()"
      ]
    },
    {
      "cell_type": "code",
      "execution_count": 14,
      "metadata": {},
      "outputs": [],
      "source": [
        "def addprimarykey():\n",
        "    sql = \"ALTER TABLE weather ADD Primary Key (DateTime);\"\n",
        "    mycursor.execute(sql)\n",
        "    cnx.commit()"
      ]
    },
    {
      "cell_type": "code",
      "execution_count": 15,
      "metadata": {},
      "outputs": [
        {
          "ename": "IntegrityError",
          "evalue": "1062 (23000): Duplicate entry '2024-01-31T06:00:00-08:00' for key 'weather.PRIMARY'",
          "output_type": "error",
          "traceback": [
            "\u001b[1;31m---------------------------------------------------------------------------\u001b[0m",
            "\u001b[1;31mMySQLInterfaceError\u001b[0m                       Traceback (most recent call last)",
            "File \u001b[1;32mc:\\Python311\\Lib\\site-packages\\mysql\\connector\\connection_cext.py:661\u001b[0m, in \u001b[0;36mCMySQLConnection.cmd_query\u001b[1;34m(self, query, raw, buffered, raw_as_string)\u001b[0m\n\u001b[0;32m    660\u001b[0m         query \u001b[38;5;241m=\u001b[39m query\u001b[38;5;241m.\u001b[39mencode(\u001b[38;5;124m\"\u001b[39m\u001b[38;5;124mutf-8\u001b[39m\u001b[38;5;124m\"\u001b[39m)\n\u001b[1;32m--> 661\u001b[0m     \u001b[38;5;28;43mself\u001b[39;49m\u001b[38;5;241;43m.\u001b[39;49m\u001b[43m_cmysql\u001b[49m\u001b[38;5;241;43m.\u001b[39;49m\u001b[43mquery\u001b[49m\u001b[43m(\u001b[49m\n\u001b[0;32m    662\u001b[0m \u001b[43m        \u001b[49m\u001b[43mquery\u001b[49m\u001b[43m,\u001b[49m\n\u001b[0;32m    663\u001b[0m \u001b[43m        \u001b[49m\u001b[43mraw\u001b[49m\u001b[38;5;241;43m=\u001b[39;49m\u001b[43mraw\u001b[49m\u001b[43m,\u001b[49m\n\u001b[0;32m    664\u001b[0m \u001b[43m        \u001b[49m\u001b[43mbuffered\u001b[49m\u001b[38;5;241;43m=\u001b[39;49m\u001b[43mbuffered\u001b[49m\u001b[43m,\u001b[49m\n\u001b[0;32m    665\u001b[0m \u001b[43m        \u001b[49m\u001b[43mraw_as_string\u001b[49m\u001b[38;5;241;43m=\u001b[39;49m\u001b[43mraw_as_string\u001b[49m\u001b[43m,\u001b[49m\n\u001b[0;32m    666\u001b[0m \u001b[43m        \u001b[49m\u001b[43mquery_attrs\u001b[49m\u001b[38;5;241;43m=\u001b[39;49m\u001b[38;5;28;43mself\u001b[39;49m\u001b[38;5;241;43m.\u001b[39;49m\u001b[43mquery_attrs\u001b[49m\u001b[43m,\u001b[49m\n\u001b[0;32m    667\u001b[0m \u001b[43m    \u001b[49m\u001b[43m)\u001b[49m\n\u001b[0;32m    668\u001b[0m \u001b[38;5;28;01mexcept\u001b[39;00m MySQLInterfaceError \u001b[38;5;28;01mas\u001b[39;00m err:\n",
            "\u001b[1;31mMySQLInterfaceError\u001b[0m: Duplicate entry '2024-01-31T06:00:00-08:00' for key 'weather.PRIMARY'",
            "\nThe above exception was the direct cause of the following exception:\n",
            "\u001b[1;31mIntegrityError\u001b[0m                            Traceback (most recent call last)",
            "Cell \u001b[1;32mIn[15], line 4\u001b[0m\n\u001b[0;32m      2\u001b[0m \u001b[38;5;28;01mfor\u001b[39;00m prediction \u001b[38;5;129;01min\u001b[39;00m predictions:\n\u001b[0;32m      3\u001b[0m     val \u001b[38;5;241m=\u001b[39m (prediction[\u001b[38;5;124m'\u001b[39m\u001b[38;5;124mstartTime\u001b[39m\u001b[38;5;124m'\u001b[39m], \u001b[38;5;28mstr\u001b[39m(prediction[\u001b[38;5;124m'\u001b[39m\u001b[38;5;124mtemperature\u001b[39m\u001b[38;5;124m'\u001b[39m]))\n\u001b[1;32m----> 4\u001b[0m     \u001b[43mmycursor\u001b[49m\u001b[38;5;241;43m.\u001b[39;49m\u001b[43mexecute\u001b[49m\u001b[43m(\u001b[49m\u001b[43msql\u001b[49m\u001b[43m,\u001b[49m\u001b[43m \u001b[49m\u001b[43mval\u001b[49m\u001b[43m)\u001b[49m\n\u001b[0;32m      5\u001b[0m cnx\u001b[38;5;241m.\u001b[39mcommit()\n",
            "File \u001b[1;32mc:\\Python311\\Lib\\site-packages\\mysql\\connector\\cursor_cext.py:374\u001b[0m, in \u001b[0;36mCMySQLCursor.execute\u001b[1;34m(self, operation, params, multi)\u001b[0m\n\u001b[0;32m    369\u001b[0m             \u001b[38;5;28;01mraise\u001b[39;00m ProgrammingError(\n\u001b[0;32m    370\u001b[0m                 \u001b[38;5;124m\"\u001b[39m\u001b[38;5;124mNot all parameters were used in the SQL statement\u001b[39m\u001b[38;5;124m\"\u001b[39m\n\u001b[0;32m    371\u001b[0m             )\n\u001b[0;32m    373\u001b[0m \u001b[38;5;28;01mtry\u001b[39;00m:\n\u001b[1;32m--> 374\u001b[0m     result \u001b[38;5;241m=\u001b[39m \u001b[38;5;28;43mself\u001b[39;49m\u001b[38;5;241;43m.\u001b[39;49m\u001b[43m_cnx\u001b[49m\u001b[38;5;241;43m.\u001b[39;49m\u001b[43mcmd_query\u001b[49m\u001b[43m(\u001b[49m\n\u001b[0;32m    375\u001b[0m \u001b[43m        \u001b[49m\u001b[43mstmt\u001b[49m\u001b[43m,\u001b[49m\n\u001b[0;32m    376\u001b[0m \u001b[43m        \u001b[49m\u001b[43mraw\u001b[49m\u001b[38;5;241;43m=\u001b[39;49m\u001b[38;5;28;43mself\u001b[39;49m\u001b[38;5;241;43m.\u001b[39;49m\u001b[43m_raw\u001b[49m\u001b[43m,\u001b[49m\n\u001b[0;32m    377\u001b[0m \u001b[43m        \u001b[49m\u001b[43mbuffered\u001b[49m\u001b[38;5;241;43m=\u001b[39;49m\u001b[38;5;28;43mself\u001b[39;49m\u001b[38;5;241;43m.\u001b[39;49m\u001b[43m_buffered\u001b[49m\u001b[43m,\u001b[49m\n\u001b[0;32m    378\u001b[0m \u001b[43m        \u001b[49m\u001b[43mraw_as_string\u001b[49m\u001b[38;5;241;43m=\u001b[39;49m\u001b[38;5;28;43mself\u001b[39;49m\u001b[38;5;241;43m.\u001b[39;49m\u001b[43m_raw_as_string\u001b[49m\u001b[43m,\u001b[49m\n\u001b[0;32m    379\u001b[0m \u001b[43m    \u001b[49m\u001b[43m)\u001b[49m\n\u001b[0;32m    380\u001b[0m \u001b[38;5;28;01mexcept\u001b[39;00m MySQLInterfaceError \u001b[38;5;28;01mas\u001b[39;00m err:\n\u001b[0;32m    381\u001b[0m     \u001b[38;5;28;01mraise\u001b[39;00m get_mysql_exception(\n\u001b[0;32m    382\u001b[0m         msg\u001b[38;5;241m=\u001b[39merr\u001b[38;5;241m.\u001b[39mmsg, errno\u001b[38;5;241m=\u001b[39merr\u001b[38;5;241m.\u001b[39merrno, sqlstate\u001b[38;5;241m=\u001b[39merr\u001b[38;5;241m.\u001b[39msqlstate\n\u001b[0;32m    383\u001b[0m     ) \u001b[38;5;28;01mfrom\u001b[39;00m \u001b[38;5;21;01merr\u001b[39;00m\n",
            "File \u001b[1;32mc:\\Python311\\Lib\\site-packages\\mysql\\connector\\opentelemetry\\context_propagation.py:74\u001b[0m, in \u001b[0;36mwith_context_propagation.<locals>.wrapper\u001b[1;34m(cnx, *args, **kwargs)\u001b[0m\n\u001b[0;32m     72\u001b[0m \u001b[38;5;250m\u001b[39m\u001b[38;5;124;03m\"\"\"Context propagation decorator.\"\"\"\u001b[39;00m\n\u001b[0;32m     73\u001b[0m \u001b[38;5;28;01mif\u001b[39;00m \u001b[38;5;129;01mnot\u001b[39;00m OTEL_ENABLED \u001b[38;5;129;01mor\u001b[39;00m \u001b[38;5;129;01mnot\u001b[39;00m cnx\u001b[38;5;241m.\u001b[39motel_context_propagation:\n\u001b[1;32m---> 74\u001b[0m     \u001b[38;5;28;01mreturn\u001b[39;00m \u001b[43mmethod\u001b[49m\u001b[43m(\u001b[49m\u001b[43mcnx\u001b[49m\u001b[43m,\u001b[49m\u001b[43m \u001b[49m\u001b[38;5;241;43m*\u001b[39;49m\u001b[43margs\u001b[49m\u001b[43m,\u001b[49m\u001b[43m \u001b[49m\u001b[38;5;241;43m*\u001b[39;49m\u001b[38;5;241;43m*\u001b[39;49m\u001b[43mkwargs\u001b[49m\u001b[43m)\u001b[49m\n\u001b[0;32m     76\u001b[0m current_span \u001b[38;5;241m=\u001b[39m trace\u001b[38;5;241m.\u001b[39mget_current_span()\n\u001b[0;32m     77\u001b[0m tp_header \u001b[38;5;241m=\u001b[39m \u001b[38;5;28;01mNone\u001b[39;00m\n",
            "File \u001b[1;32mc:\\Python311\\Lib\\site-packages\\mysql\\connector\\connection_cext.py:669\u001b[0m, in \u001b[0;36mCMySQLConnection.cmd_query\u001b[1;34m(self, query, raw, buffered, raw_as_string)\u001b[0m\n\u001b[0;32m    661\u001b[0m     \u001b[38;5;28mself\u001b[39m\u001b[38;5;241m.\u001b[39m_cmysql\u001b[38;5;241m.\u001b[39mquery(\n\u001b[0;32m    662\u001b[0m         query,\n\u001b[0;32m    663\u001b[0m         raw\u001b[38;5;241m=\u001b[39mraw,\n\u001b[1;32m   (...)\u001b[0m\n\u001b[0;32m    666\u001b[0m         query_attrs\u001b[38;5;241m=\u001b[39m\u001b[38;5;28mself\u001b[39m\u001b[38;5;241m.\u001b[39mquery_attrs,\n\u001b[0;32m    667\u001b[0m     )\n\u001b[0;32m    668\u001b[0m \u001b[38;5;28;01mexcept\u001b[39;00m MySQLInterfaceError \u001b[38;5;28;01mas\u001b[39;00m err:\n\u001b[1;32m--> 669\u001b[0m     \u001b[38;5;28;01mraise\u001b[39;00m get_mysql_exception(\n\u001b[0;32m    670\u001b[0m         err\u001b[38;5;241m.\u001b[39merrno, msg\u001b[38;5;241m=\u001b[39merr\u001b[38;5;241m.\u001b[39mmsg, sqlstate\u001b[38;5;241m=\u001b[39merr\u001b[38;5;241m.\u001b[39msqlstate\n\u001b[0;32m    671\u001b[0m     ) \u001b[38;5;28;01mfrom\u001b[39;00m \u001b[38;5;21;01merr\u001b[39;00m\n\u001b[0;32m    672\u001b[0m \u001b[38;5;28;01mexcept\u001b[39;00m \u001b[38;5;167;01mAttributeError\u001b[39;00m \u001b[38;5;28;01mas\u001b[39;00m err:\n\u001b[0;32m    673\u001b[0m     addr \u001b[38;5;241m=\u001b[39m (\n\u001b[0;32m    674\u001b[0m         \u001b[38;5;28mself\u001b[39m\u001b[38;5;241m.\u001b[39m_unix_socket \u001b[38;5;28;01mif\u001b[39;00m \u001b[38;5;28mself\u001b[39m\u001b[38;5;241m.\u001b[39m_unix_socket \u001b[38;5;28;01melse\u001b[39;00m \u001b[38;5;124mf\u001b[39m\u001b[38;5;124m\"\u001b[39m\u001b[38;5;132;01m{\u001b[39;00m\u001b[38;5;28mself\u001b[39m\u001b[38;5;241m.\u001b[39m_host\u001b[38;5;132;01m}\u001b[39;00m\u001b[38;5;124m:\u001b[39m\u001b[38;5;132;01m{\u001b[39;00m\u001b[38;5;28mself\u001b[39m\u001b[38;5;241m.\u001b[39m_port\u001b[38;5;132;01m}\u001b[39;00m\u001b[38;5;124m\"\u001b[39m\n\u001b[0;32m    675\u001b[0m     )\n",
            "\u001b[1;31mIntegrityError\u001b[0m: 1062 (23000): Duplicate entry '2024-01-31T06:00:00-08:00' for key 'weather.PRIMARY'"
          ]
        }
      ],
      "source": [
        "def insertvalues():\n",
        "    sql = \"INSERT INTO weather (DateTime, Temperature) VALUES (%s, %s)\"\n",
        "    for prediction in predictions:\n",
        "        val = (prediction['startTime'], str(prediction['temperature']))\n",
        "        mycursor.execute(sql, val)\n",
        "    cnx.commit()"
      ]
    }
  ],
  "metadata": {
    "colab": {
      "provenance": []
    },
    "kernelspec": {
      "display_name": "Python 3",
      "name": "python3"
    },
    "language_info": {
      "codemirror_mode": {
        "name": "ipython",
        "version": 3
      },
      "file_extension": ".py",
      "mimetype": "text/x-python",
      "name": "python",
      "nbconvert_exporter": "python",
      "pygments_lexer": "ipython3",
      "version": "3.11.0"
    }
  },
  "nbformat": 4,
  "nbformat_minor": 0
}
